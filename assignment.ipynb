{
 "cells": [
  {
   "attachments": {},
   "cell_type": "markdown",
   "metadata": {},
   "source": [
    "# Assignment 2\n",
    "\n",
    "### Instructions:\n",
    "\n",
    "Assignment 2 will cover Python's Built-in Data Types and Built-in Data Structures. The overall goal of this assignment is to ensure that you are comfortable with the syntax and commonly-used objects and structures within Python. There are 2 parts to this assignment. For the first part, you will be answering questions and solving problems within this notebook, the second part requires you to modify a `.py` file that will be run within this notebook for simplicity. Follow the steps below to ensure that you receive a passing grade:\n",
    "\n",
    "    - Complete the following tasks within this notebook\n",
    "    - Modify the .py file to work as the assignment dictates\n",
    "    - When finished, convert this notebook to an HTML/PDF file\n",
    "    - Place the following items into a zip folder:\n",
    "        - Assignment.HTML or Assignment.PDF\n",
    "        - Assignment.ipynb\n",
    "        - Assignment.py\n",
    "    - Name this folder using the naming convention: FIRSTNAME_LASTNAME_ASSIGNMENT2.zip\n",
    "        - For example, If your name was Jane Doe, then the zipped folder should be called JANE_DOE_ASSIGNMENT2.zip\n"
   ]
  },
  {
   "attachments": {},
   "cell_type": "markdown",
   "metadata": {},
   "source": [
    "## Part 1"
   ]
  },
  {
   "attachments": {},
   "cell_type": "markdown",
   "metadata": {},
   "source": [
    "#### The following chunk of code has an error. Correct the mistake and explain why using comments or markdown."
   ]
  },
  {
   "cell_type": "code",
   "execution_count": 1,
   "metadata": {
    "scrolled": true
   },
   "outputs": [
    {
     "name": "stdout",
     "output_type": "stream",
     "text": [
      "23\n"
     ]
    }
   ],
   "source": [
    "Myint = 23\n",
    "\n",
    "print(Myint)"
   ]
  },
  {
   "attachments": {},
   "cell_type": "markdown",
   "metadata": {},
   "source": [
    "*The error was that variables are case-sensitive in python, so before myint != Myint*"
   ]
  },
  {
   "attachments": {},
   "cell_type": "markdown",
   "metadata": {},
   "source": [
    "#### The following arithmetic statement returns `24.0`. Use *only* parentheses to group these operations such that it returns `32.0`"
   ]
  },
  {
   "cell_type": "code",
   "execution_count": 15,
   "metadata": {},
   "outputs": [
    {
     "data": {
      "text/plain": [
       "24.0"
      ]
     },
     "execution_count": 15,
     "metadata": {},
     "output_type": "execute_result"
    }
   ],
   "source": [
    "20 + 24 / 4 - 2"
   ]
  },
  {
   "cell_type": "code",
   "execution_count": 2,
   "metadata": {},
   "outputs": [
    {
     "data": {
      "text/plain": [
       "32.0"
      ]
     },
     "execution_count": 2,
     "metadata": {},
     "output_type": "execute_result"
    }
   ],
   "source": [
    "20 + (24 / (4 - 2))"
   ]
  },
  {
   "attachments": {},
   "cell_type": "markdown",
   "metadata": {},
   "source": [
    "#### Cast `output` as a floating point value"
   ]
  },
  {
   "cell_type": "code",
   "execution_count": 3,
   "metadata": {},
   "outputs": [
    {
     "name": "stdout",
     "output_type": "stream",
     "text": [
      "x =  59.0\n",
      "type =  <class 'float'>\n"
     ]
    }
   ],
   "source": [
    "x = 30\n",
    "y = 29\n",
    "output = float(x + y)\n",
    "\n",
    "# your code goes here\n",
    "\n",
    "print(\"x = \",output)\n",
    "print(\"type = \",type(output))"
   ]
  },
  {
   "attachments": {},
   "cell_type": "markdown",
   "metadata": {},
   "source": [
    "#### Calculate the square root of `23` and divide by `2` using floor division and print it. Also print what data type the number is."
   ]
  },
  {
   "cell_type": "code",
   "execution_count": 6,
   "metadata": {},
   "outputs": [
    {
     "name": "stdout",
     "output_type": "stream",
     "text": [
      "x =  2.0\n",
      "type =  <class 'float'>\n"
     ]
    }
   ],
   "source": [
    "x = (23**(1/2)) // 2\n",
    "print(\"x = \", x)\n",
    "print(\"type = \", type(x))"
   ]
  },
  {
   "attachments": {},
   "cell_type": "markdown",
   "metadata": {},
   "source": [
    "#### Create a print statement that returns the exact phrase `This 'is' a \"sample\" sentence.`"
   ]
  },
  {
   "cell_type": "code",
   "execution_count": 4,
   "metadata": {},
   "outputs": [
    {
     "name": "stdout",
     "output_type": "stream",
     "text": [
      "This 'is' a \"sample\" sentence\n"
     ]
    }
   ],
   "source": [
    "print('''This 'is' a \"sample\" sentence''')"
   ]
  },
  {
   "attachments": {},
   "cell_type": "markdown",
   "metadata": {},
   "source": [
    "#### The following sentence has the word `brown` repeated. Fix this typo using string slicing and concatenation. Then print the new string."
   ]
  },
  {
   "cell_type": "code",
   "execution_count": 29,
   "metadata": {},
   "outputs": [
    {
     "name": "stdout",
     "output_type": "stream",
     "text": [
      "This is the revised statement: The quick brown fox jumps over the lazy dog\n"
     ]
    }
   ],
   "source": [
    "myString = \"The quick brown brown fox jumps over the lazy dog\"\n",
    "\n",
    "newString1 = myString[0:16]\n",
    "newString2 = myString[22:]\n",
    "\n",
    "newString3 = newString1 + newString2\n",
    "print(\"This is the revised statement:\", newString3)\n"
   ]
  },
  {
   "attachments": {},
   "cell_type": "markdown",
   "metadata": {},
   "source": [
    "#### Use what you've learned about lists to remove all the foods from this list, then print it"
   ]
  },
  {
   "cell_type": "code",
   "execution_count": 3,
   "metadata": {},
   "outputs": [
    {
     "name": "stdout",
     "output_type": "stream",
     "text": [
      "['car', 'mountain', 'planet']\n"
     ]
    }
   ],
   "source": [
    "myList = [\"car\", \"apple\", \"mountain\", \"banana\", \"planet\"]\n",
    "\n",
    "myList.remove(\"apple\")\n",
    "myList.remove(\"banana\")\n",
    "\n",
    "print(myList)"
   ]
  },
  {
   "attachments": {},
   "cell_type": "markdown",
   "metadata": {},
   "source": [
    "#### Why does this code raise an error?"
   ]
  },
  {
   "cell_type": "code",
   "execution_count": 27,
   "metadata": {
    "scrolled": true
   },
   "outputs": [
    {
     "ename": "TypeError",
     "evalue": "unhashable type: 'list'",
     "output_type": "error",
     "traceback": [
      "\u001b[1;31m---------------------------------------------------------------------------\u001b[0m",
      "\u001b[1;31mTypeError\u001b[0m                                 Traceback (most recent call last)",
      "\u001b[1;32m<ipython-input-27-bd5a332d1baa>\u001b[0m in \u001b[0;36m<module>\u001b[1;34m\u001b[0m\n\u001b[0;32m      1\u001b[0m \u001b[0mmyList\u001b[0m \u001b[1;33m=\u001b[0m \u001b[1;33m[\u001b[0m\u001b[1;34m\"racecar\"\u001b[0m\u001b[1;33m,\u001b[0m \u001b[1;34m\"sayonara\"\u001b[0m\u001b[1;33m]\u001b[0m\u001b[1;33m\u001b[0m\u001b[1;33m\u001b[0m\u001b[0m\n\u001b[0;32m      2\u001b[0m \u001b[1;33m\u001b[0m\u001b[0m\n\u001b[1;32m----> 3\u001b[1;33m \u001b[0mmySet\u001b[0m \u001b[1;33m=\u001b[0m \u001b[1;33m{\u001b[0m\u001b[1;34m\"carousel\"\u001b[0m\u001b[1;33m,\u001b[0m \u001b[0mmyList\u001b[0m\u001b[1;33m,\u001b[0m \u001b[1;34m\"home\"\u001b[0m\u001b[1;33m}\u001b[0m\u001b[1;33m\u001b[0m\u001b[1;33m\u001b[0m\u001b[0m\n\u001b[0m",
      "\u001b[1;31mTypeError\u001b[0m: unhashable type: 'list'"
     ]
    }
   ],
   "source": [
    "myList = [\"racecar\", \"sayonara\"]\n",
    "\n",
    "mySet = {\"carousel\", myList, \"home\"}"
   ]
  },
  {
   "attachments": {},
   "cell_type": "markdown",
   "metadata": {},
   "source": [
    "*Lists are defined as mutable data structures, meaning the list's elements can be modified after creation. However, sets is a collection of unique elements, meaning a set requires its elements to be immutable*"
   ]
  },
  {
   "attachments": {},
   "cell_type": "markdown",
   "metadata": {},
   "source": [
    "#### Count how many unique characters are in the following string and print it."
   ]
  },
  {
   "cell_type": "code",
   "execution_count": 6,
   "metadata": {},
   "outputs": [
    {
     "name": "stdout",
     "output_type": "stream",
     "text": [
      "This is the amount of unique characters: 28\n",
      "{'L', 'l', 'h', 'q', 'r', 'b', '.', 'a', 'p', 'd', 's', 'v', ' ', 'x', 'g', 'u', 'm', 'U', 'D', 'o', 'E', 't', 'i', ',', 'n', 'f', 'e', 'c'}\n"
     ]
    }
   ],
   "source": [
    "myString = \"\"\"\\\n",
    "Lorem ipsum dolor sit amet, consectetur adipiscing elit, \\\n",
    "sed do eiusmod tempor incididunt ut labore et dolore magna aliqua. \\\n",
    "Ut enim ad minim veniam, quis nostrud exercitation ullamco laboris nisi \\\n",
    "ut aliquip ex ea commodo consequat. Duis aute irure dolor in reprehenderit \\\n",
    "in voluptate velit esse cillum dolore eu fugiat nulla pariatur. \\\n",
    "Excepteur sint occaecat cupidatat non proident, \\\n",
    "sunt in culpa qui officia deserunt mollit anim id est laborum. \\\n",
    "\"\"\"\n",
    "\n",
    "\n",
    "mySet = set()\n",
    "\n",
    "for char in myString:\n",
    "    if char not in mySet:\n",
    "        mySet.add(char)\n",
    "\n",
    "print(\"This is the amount of unique characters:\", len(mySet))\n",
    "print(mySet)"
   ]
  },
  {
   "attachments": {},
   "cell_type": "markdown",
   "metadata": {},
   "source": [
    "#### Which of the following built-in data structures are immutable?\n",
    "\n",
    "    A. Lists\n",
    "    B. Tuples\n",
    "    C. Sets\n",
    "    D. Dictionaries"
   ]
  },
  {
   "attachments": {},
   "cell_type": "markdown",
   "metadata": {},
   "source": [
    "*The 2 built-in data structures are that immutable: Tuples & Sets*"
   ]
  },
  {
   "attachments": {},
   "cell_type": "markdown",
   "metadata": {},
   "source": [
    "**In your own words (i.e. don't copy from the lecture notebook), describe the following concepts in detail**\n",
    "* **Classes**: *These are the instructions for how to build the final project(Objects). The breakdown of Classes are variables, attributes, and methods; each servings its own purpose . For example,if we were building a project that showed all mammal  species. There would exist a feline class.* \n",
    "* **Objects**: *These are the intended projects that classes are designed to create. Continuing with the example, two examples of feline classes would be a household cat and a jaguar.*\n",
    "* **Methods**:  *These are functions that help us complete the necessary analysis for the project. An example of a method would be calculating the age of a specifc animal. How many times a day it needs to eat.* \n",
    "* **Attributes**:  *These are specific characteristics of a particular object that describe it in greater detail. An example of attribute is the color of the mammal. If it is nocturnal or diurnal.*"
   ]
  },
  {
   "attachments": {},
   "cell_type": "markdown",
   "metadata": {},
   "source": [
    "## Part 2\n",
    "\n",
    "\n",
    "This part will require you to modify `Assignment.py` file. Perform all tasks in Part 2 in the `.py` file and run the code within this notebook."
   ]
  },
  {
   "attachments": {},
   "cell_type": "markdown",
   "metadata": {},
   "source": [
    "\n",
    "#### A.\n",
    "\n",
    "Create code that asks the user for:\n",
    "\n",
    "    - Their Name\n",
    "    - The Current Year\n",
    "    - Their Hair Color\n",
    "    - The Year They Were Born\n",
    "\n",
    "Put these results into a dictionary and print the dictionary\n",
    "\n",
    "Then calculate how old the user will be this year and add it to a new entry into the dictionary using a key named `age`\n",
    "\n",
    "\n",
    "Print the dictionary again\n",
    "\n",
    "print the following using only the dictionary and its keys:\n",
    "\n",
    "    -\"Hello {The input name}, you have {the input hair color}.\"\n",
    "    -\"The current year is {The input current year}.\"\n",
    "    -\"You were born in {the input birth year}\"\n",
    "    -\"This means you will be {calculated age} years old this year\"\n",
    "\n",
    "\n",
    "\n",
    "#### B.\n",
    "\n",
    "The area of a triangle can be computed using the following formula\n",
    "\n",
    "$$ a = \\frac{1}{2} b \\times h$$\n",
    "\n",
    "where $b$ is the length of the base of the triangle, and $h$ is its height. Write code that asks the user to enter values for $b$ and $h$. The code should then compute and display the area of a triangle with base length $b$ and height $h$. The information displayed to the console should look like this:\n",
    "\n",
    "\n",
    "    -\"Input Height: \"\n",
    "    -\"Input Base: \"\n",
    "    -\"The area of the triangle is: {calculated area} \"\n",
    "\n",
    "\n",
    "\n",
    "#### C. \n",
    "\n",
    "Create code that asks the user for two numbers, separated by a space. Split this input on a space character. Using the `type()` function, confirm that this split string object is a `list`. With this information, extract the values from that list, print their sum, and use a comparison operator to print whether the sum of these two numbers is greater than 10. The information displayed to the console should look like this:\n",
    "\n",
    "\n",
    "    -\"Input two numbers, separated by a space: \"\n",
    "    -\"The sum of these two numbers is: {sum of numbers}\"\n",
    "    -\"Is the sum greater than 10? : {True/False}\"\n"
   ]
  },
  {
   "attachments": {},
   "cell_type": "markdown",
   "metadata": {},
   "source": [
    "##### Run the cell below when you have finished modifying the python file"
   ]
  },
  {
   "cell_type": "code",
   "execution_count": 1,
   "metadata": {},
   "outputs": [
    {
     "name": "stdout",
     "output_type": "stream",
     "text": [
      "{'name': 'Josh', 'year': '2024', 'hairColor': 'Black', 'birthYear': '2001', 'age': 23}\n",
      "Hello Josh you have Black hair.\n",
      "The current year is 2024\n",
      "You were born in 2001\n",
      "That means you will be 23 years old this year\n",
      "The area of the given triangle is: 10\n",
      "The sum of these two numbers is:  66\n",
      "Is the sum greater than 10?:  True\n"
     ]
    }
   ],
   "source": [
    "run Assignment.py"
   ]
  }
 ],
 "metadata": {
  "kernelspec": {
   "display_name": "Python 3",
   "language": "python",
   "name": "python3"
  },
  "language_info": {
   "codemirror_mode": {
    "name": "ipython",
    "version": 3
   },
   "file_extension": ".py",
   "mimetype": "text/x-python",
   "name": "python",
   "nbconvert_exporter": "python",
   "pygments_lexer": "ipython3",
   "version": "3.9.12"
  }
 },
 "nbformat": 4,
 "nbformat_minor": 4
}
